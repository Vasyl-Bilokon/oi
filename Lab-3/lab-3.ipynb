{
 "cells": [
  {
   "cell_type": "code",
   "execution_count": 2,
   "metadata": {},
   "outputs": [],
   "source": [
    "import os\n",
    "import zipfile\n",
    "import random\n",
    "import shutil\n",
    "import tensorflow as tf\n",
    "from tensorflow.keras.preprocessing.image import ImageDataGenerator\n",
    "from shutil import copyfile\n",
    "import matplotlib.pyplot as plt"
   ]
  },
  {
   "cell_type": "code",
   "execution_count": 8,
   "metadata": {},
   "outputs": [],
   "source": [
    "def create_train_val_dirs(root_path):\n",
    "    train_dir = os.path.join(root_path, \"training\")\n",
    "    validation_dir = os.path.join(root_path, \"validation\")\n",
    "    \n",
    "    training_cats_dir = os.path.join(train_dir, \"cats\")\n",
    "    training_dogs_dir = os.path.join(train_dir, \"dogs\")\n",
    "    \n",
    "    validations_cats_dir = os.path.join(validation_dir, \"cats\")\n",
    "    validations_dogs_dir = os.path.join(validation_dir, \"dogs\")\n",
    "    \n",
    "    os.makedirs(training_cats_dir)\n",
    "    os.makedirs(training_dogs_dir)\n",
    "    os.makedirs(validations_cats_dir)\n",
    "    os.makedirs(validations_dogs_dir)\n",
    "    \n",
    "    train_cat_dir = os.listdir(training_cats_dir)\n",
    "    train_dog_dir = os.listdir(training_dogs_dir)"
   ]
  },
  {
   "cell_type": "code",
   "execution_count": 16,
   "metadata": {},
   "outputs": [],
   "source": [
    "def split_data(source_dir, training_dir, validation_dir, split_size):\n",
    "    \n",
    "    stripped_names = os.listdir(source_dir)\n",
    "    \n",
    "    for name in os.listdir(source_dir):\n",
    "        if os.path.getsize(source_dir +'/'+name) == 0:\n",
    "            print(name + \" is zero length, so ignoring.\")\n",
    "            stripped_names.remove(name)\n",
    "    \n",
    "    shuff_names = random.sample(stripped_names, len(stripped_names))\n",
    "    \n",
    "    for name in shuff_names[:int(len(stripped_names)*split_size)]:\n",
    "        copyfile(source_dir + name, training_dir + name)\n",
    "    \n",
    "    for name in shuff_names[int(len(stripped_names)*split_size):]:\n",
    "        copyfile(source_dir + name, validation_dir + name)"
   ]
  },
  {
   "cell_type": "code",
   "execution_count": 10,
   "metadata": {},
   "outputs": [],
   "source": [
    "def train_val_generators(training_dir, validation_dir):\n",
    "    \n",
    "    train_datagen = ImageDataGenerator(rescale=(1./255))\n",
    "    \n",
    "    train_generator = train_datagen.flow_from_directory(directory=training_dir,\n",
    "                                                        batch_size=20,\n",
    "                                                        class_mode='binary',\n",
    "                                                        target_size=(150,150))\n",
    "    \n",
    "    validation_datagen = ImageDataGenerator(rescale=(1./255))\n",
    "    \n",
    "    validation_generator = validation_datagen.flow_from_directory(directory=validation_dir,\n",
    "                                                                  batch_size=20,\n",
    "                                                                  class_mode='binary',\n",
    "                                                                  target_size=(150,150))\n",
    "    \n",
    "    return train_generator, validation_generator"
   ]
  },
  {
   "cell_type": "code",
   "execution_count": 11,
   "metadata": {},
   "outputs": [],
   "source": [
    "def create_model():\n",
    "    model = tf.keras.models.Sequential([\n",
    "        tf.keras.layers.Conv2D(16, (3,3), activation='relu', input_shape=(150,150,3)),\n",
    "        tf.keras.layers.MaxPooling2D(2,2),\n",
    "        tf.keras.layers.Conv2D(32, (3,3), activation='relu'),\n",
    "        tf.keras.layers.MaxPooling2D(2,2),\n",
    "        tf.keras.layers.Conv2D(64, (3,3), activation='relu'),\n",
    "        tf.keras.layers.MaxPooling2D(2,2),\n",
    "        tf.keras.layers.Conv2D(128, (3,3), activation='relu'),\n",
    "        tf.keras.layers.MaxPooling2D(2,2),\n",
    "        tf.keras.layers.Flatten(),\n",
    "        tf.keras.layers.Dense(512, activation='relu'),\n",
    "        tf.keras.layers.Dense(1, activation='sigmoid')\n",
    "    ])\n",
    "    \n",
    "    model.compile(optimizer=tf.keras.optimizers.Adam(),\n",
    "                  loss='binary_crossentropy',\n",
    "                  metrics=['accuracy'])\n",
    "    return model"
   ]
  },
  {
   "cell_type": "code",
   "execution_count": 6,
   "metadata": {},
   "outputs": [],
   "source": [
    "root_dir = \"C:/NURE/OI/Lab-3/assets/cats-vs-dogs\"\n",
    "\n",
    "if os.path.exists(root_dir):\n",
    "    shutil.rmtree(root_dir)"
   ]
  },
  {
   "cell_type": "code",
   "execution_count": 14,
   "metadata": {},
   "outputs": [
    {
     "name": "stdout",
     "output_type": "stream",
     "text": [
      "There are 12500 images of dogs.\n",
      "There are 12500 images of cats.\n"
     ]
    }
   ],
   "source": [
    "source_path = \"C:/NURE/OI/Lab-3/assets/cats-and-dogs/PetImages/\"\n",
    "\n",
    "source_path_dogs = os.path.join(source_path, \"Dog/\")\n",
    "source_path_cats = os.path.join(source_path, \"Cat/\")\n",
    "\n",
    "print(f\"There are {len(os.listdir(source_path_dogs))} images of dogs.\")\n",
    "print(f\"There are {len(os.listdir(source_path_cats))} images of cats.\")"
   ]
  },
  {
   "cell_type": "code",
   "execution_count": 12,
   "metadata": {},
   "outputs": [],
   "source": [
    "create_train_val_dirs(root_dir)"
   ]
  },
  {
   "cell_type": "code",
   "execution_count": 17,
   "metadata": {},
   "outputs": [
    {
     "name": "stdout",
     "output_type": "stream",
     "text": [
      "11702.jpg is zero length, so ignoring.\n",
      "666.jpg is zero length, so ignoring.\n"
     ]
    }
   ],
   "source": [
    "training_dir_dog = \"C:/NURE/OI/Lab-3/assets/cats-vs-dogs/training/dogs/\"\n",
    "training_dir_cat = \"C:/NURE/OI/Lab-3/assets/training/cats/\"\n",
    "\n",
    "validation_dir_dog = \"C:/NURE/OI/Lab-3/assets/validation/dogs/\"\n",
    "validation_dir_cat = \"C:/NURE/OI/Lab-3/assets/validation/cats/\"\n",
    "\n",
    "split_data(source_path_dogs, training_dir_dog, validation_dir_dog, split_size=0.9)\n",
    "split_data(source_path_cats, training_dir_cat, validation_dir_cat, split_size=0.9)"
   ]
  },
  {
   "cell_type": "code",
   "execution_count": 18,
   "metadata": {},
   "outputs": [
    {
     "name": "stdout",
     "output_type": "stream",
     "text": [
      "Found 22498 images belonging to 2 classes.\n",
      "Found 2500 images belonging to 2 classes.\n"
     ]
    }
   ],
   "source": [
    "training_dir = \"C:/NURE/OI/Lab-3/assets/cats-vs-dogs/training/\"\n",
    "validation_dir = \"C:/NURE/OI/Lab-3/assets/cats-vs-dogs/validation/\"\n",
    "train_generator, validation_generator = train_val_generators(training_dir=training_dir, validation_dir=validation_dir)"
   ]
  },
  {
   "cell_type": "code",
   "execution_count": 21,
   "metadata": {},
   "outputs": [
    {
     "name": "stdout",
     "output_type": "stream",
     "text": [
      "Epoch 1/15\n",
      " 867/1125 [======================>.......] - ETA: 1:23 - loss: 0.6575 - accuracy: 0.5974"
     ]
    },
    {
     "name": "stderr",
     "output_type": "stream",
     "text": [
      "C:\\ProgramData\\Anaconda3\\lib\\site-packages\\PIL\\TiffImagePlugin.py:822: UserWarning: Truncated File Read\n",
      "  warnings.warn(str(msg))\n"
     ]
    },
    {
     "name": "stdout",
     "output_type": "stream",
     "text": [
      "1125/1125 [==============================] - 380s 337ms/step - loss: 0.6345 - accuracy: 0.6256 - val_loss: 0.5228 - val_accuracy: 0.7452\n",
      "Epoch 2/15\n",
      "1125/1125 [==============================] - 382s 340ms/step - loss: 0.4772 - accuracy: 0.7717 - val_loss: 0.4275 - val_accuracy: 0.7980\n",
      "Epoch 3/15\n",
      "1125/1125 [==============================] - 378s 336ms/step - loss: 0.3896 - accuracy: 0.8233 - val_loss: 0.3744 - val_accuracy: 0.8324\n",
      "Epoch 4/15\n",
      "1125/1125 [==============================] - 402s 357ms/step - loss: 0.3287 - accuracy: 0.8561 - val_loss: 0.3383 - val_accuracy: 0.8516\n",
      "Epoch 5/15\n",
      "1125/1125 [==============================] - 417s 370ms/step - loss: 0.2640 - accuracy: 0.8876 - val_loss: 0.3633 - val_accuracy: 0.8404\n",
      "Epoch 6/15\n",
      "1125/1125 [==============================] - 378s 336ms/step - loss: 0.2068 - accuracy: 0.9141 - val_loss: 0.3641 - val_accuracy: 0.8528\n",
      "Epoch 7/15\n",
      "1125/1125 [==============================] - 373s 332ms/step - loss: 0.1604 - accuracy: 0.9337 - val_loss: 0.3531 - val_accuracy: 0.8584\n",
      "Epoch 8/15\n",
      "1125/1125 [==============================] - 391s 348ms/step - loss: 0.1087 - accuracy: 0.9576 - val_loss: 0.5291 - val_accuracy: 0.8428\n",
      "Epoch 9/15\n",
      "1125/1125 [==============================] - 518s 461ms/step - loss: 0.0825 - accuracy: 0.9688 - val_loss: 0.5511 - val_accuracy: 0.8516\n",
      "Epoch 10/15\n",
      "1125/1125 [==============================] - 456s 406ms/step - loss: 0.0653 - accuracy: 0.9760 - val_loss: 0.5384 - val_accuracy: 0.8540\n",
      "Epoch 11/15\n",
      "1125/1125 [==============================] - 388s 345ms/step - loss: 0.0512 - accuracy: 0.9817 - val_loss: 0.5893 - val_accuracy: 0.8556\n",
      "Epoch 12/15\n",
      "1125/1125 [==============================] - 392s 348ms/step - loss: 0.0376 - accuracy: 0.9870 - val_loss: 0.7059 - val_accuracy: 0.8540\n",
      "Epoch 13/15\n",
      "1125/1125 [==============================] - 393s 349ms/step - loss: 0.0485 - accuracy: 0.9837 - val_loss: 0.6936 - val_accuracy: 0.8612\n",
      "Epoch 14/15\n",
      "1125/1125 [==============================] - 395s 351ms/step - loss: 0.0358 - accuracy: 0.9879 - val_loss: 0.8191 - val_accuracy: 0.8484\n",
      "Epoch 15/15\n",
      "1125/1125 [==============================] - 398s 354ms/step - loss: 0.0343 - accuracy: 0.9884 - val_loss: 0.9306 - val_accuracy: 0.8412\n"
     ]
    }
   ],
   "source": [
    "model = create_model()\n",
    "\n",
    "history = model.fit(train_generator, epochs=15, verbose=1, validation_data=validation_generator)"
   ]
  },
  {
   "cell_type": "code",
   "execution_count": 23,
   "metadata": {},
   "outputs": [
    {
     "data": {
      "image/png": "[encoded data removed]",
      "text/plain": [
       "<Figure size 432x288 with 1 Axes>"
      ]
     },
     "metadata": {
      "needs_background": "light"
     },
     "output_type": "display_data"
    },
    {
     "name": "stdout",
     "output_type": "stream",
     "text": [
      "\n"
     ]
    },
    {
     "data": {
      "image/png": "[encoded data removed]",
      "text/plain": [
       "<Figure size 432x288 with 1 Axes>"
      ]
     },
     "metadata": {
      "needs_background": "light"
     },
     "output_type": "display_data"
    }
   ],
   "source": [
    "acc=history.history['accuracy']\n",
    "val_acc=history.history['val_accuracy']\n",
    "loss=history.history['loss']\n",
    "val_loss=history.history['val_loss']\n",
    "\n",
    "epochs=range(len(acc))\n",
    "plt.plot(epochs, acc, 'r', \"Training Accuracy - red\")\n",
    "plt.plot(epochs, val_acc, 'b', \"Validation Accuracy - blue\")\n",
    "plt.title('Training and validation accuracy')\n",
    "plt.show()\n",
    "print(\"\")\n",
    "\n",
    "plt.plot(epochs, loss, 'r', \"Training Loss - red\")\n",
    "plt.plot(epochs, val_loss, 'b', \"Validation Loss - blue\")\n",
    "plt.title('Training and validation loss')\n",
    "plt.show()"
   ]
  },
  {
   "cell_type": "code",
   "execution_count": null,
   "metadata": {},
   "outputs": [],
   "source": []
  }
 ],
 "metadata": {
  "kernelspec": {
   "display_name": "Python 3",
   "language": "python",
   "name": "python3"
  },
  "language_info": {
   "codemirror_mode": {
    "name": "ipython",
    "version": 3
   },
   "file_extension": ".py",
   "mimetype": "text/x-python",
   "name": "python",
   "nbconvert_exporter": "python",
   "pygments_lexer": "ipython3",
   "version": "3.8.3"
  }
 },
 "nbformat": 4,
 "nbformat_minor": 5
}
